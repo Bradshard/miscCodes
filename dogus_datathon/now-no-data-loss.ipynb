{
 "cells": [
  {
   "cell_type": "code",
   "execution_count": 1,
   "id": "142034bf",
   "metadata": {
    "_cell_guid": "b1076dfc-b9ad-4769-8c92-a6c4dae69d19",
    "_uuid": "8f2839f25d086af736a60e9eeb907d3b93b6e0e5",
    "execution": {
     "iopub.execute_input": "2021-11-05T14:10:27.914698Z",
     "iopub.status.busy": "2021-11-05T14:10:27.912997Z",
     "iopub.status.idle": "2021-11-05T14:10:27.925954Z",
     "shell.execute_reply": "2021-11-05T14:10:27.925271Z",
     "shell.execute_reply.started": "2021-11-05T14:03:15.594522Z"
    },
    "papermill": {
     "duration": 0.031098,
     "end_time": "2021-11-05T14:10:27.926115",
     "exception": false,
     "start_time": "2021-11-05T14:10:27.895017",
     "status": "completed"
    },
    "tags": []
   },
   "outputs": [
    {
     "name": "stdout",
     "output_type": "stream",
     "text": [
      "/kaggle/input/dogus-datathon-otomotiv/MASK_SERVIS_BAKIM_DATATHON_FINAL.csv\n",
      "/kaggle/input/dogus-datathon-otomotiv/sample_submission.csv\n",
      "/kaggle/input/dogus-datathon-otomotiv/FINAL_SIFIR_ARAC_ALANLAR_DATATHON.csv\n",
      "/kaggle/input/dogus-datathon-otomotiv/FINAL_SALES_FILE_DATATHON.csv\n",
      "/kaggle/input/dogus-datathon-otomotiv/FINAL_VEHICLE_TABLE_DATATHON.csv\n",
      "/kaggle/input/dogus-datathon-otomotiv/FINAL_CUSTOMER_DATATHON.csv\n",
      "/kaggle/input/dogus-datathon-otomotiv/FINAL_CUSTOMER_RELATED_TABLE_FOR_DATATHON.csv\n"
     ]
    }
   ],
   "source": [
    "# This Python 3 environment comes with many helpful analytics libraries installed\n",
    "# It is defined by the kaggle/python Docker image: https://github.com/kaggle/docker-python\n",
    "# For example, here's several helpful packages to load\n",
    "\n",
    "import numpy as np # linear algebra\n",
    "import pandas as pd # data processing, CSV file I/O (e.g. pd.read_csv)\n",
    "\n",
    "# Input data files are available in the read-only \"../input/\" directory\n",
    "# For example, running this (by clicking run or pressing Shift+Enter) will list all files under the input directory\n",
    "\n",
    "import os\n",
    "for dirname, _, filenames in os.walk('/kaggle/input'):\n",
    "    for filename in filenames:\n",
    "        print(os.path.join(dirname, filename))\n",
    "\n",
    "# You can write up to 20GB to the current directory (/kaggle/working/) that gets preserved as output when you create a version using \"Save & Run All\" \n",
    "# You can also write temporary files to /kaggle/temp/, but they won't be saved outside of the current session"
   ]
  },
  {
   "cell_type": "code",
   "execution_count": 2,
   "id": "c8c336e8",
   "metadata": {
    "execution": {
     "iopub.execute_input": "2021-11-05T14:10:27.954006Z",
     "iopub.status.busy": "2021-11-05T14:10:27.953228Z",
     "iopub.status.idle": "2021-11-05T14:10:29.015783Z",
     "shell.execute_reply": "2021-11-05T14:10:29.015137Z",
     "shell.execute_reply.started": "2021-11-05T14:03:15.627613Z"
    },
    "papermill": {
     "duration": 1.078056,
     "end_time": "2021-11-05T14:10:29.015944",
     "exception": false,
     "start_time": "2021-11-05T14:10:27.937888",
     "status": "completed"
    },
    "tags": []
   },
   "outputs": [],
   "source": [
    "import numpy as np\n",
    "from sklearn.experimental import enable_iterative_imputer\n",
    "from sklearn.impute import IterativeImputer\n",
    "from sklearn.linear_model import LinearRegression"
   ]
  },
  {
   "cell_type": "code",
   "execution_count": 3,
   "id": "634a9157",
   "metadata": {
    "execution": {
     "iopub.execute_input": "2021-11-05T14:10:29.047764Z",
     "iopub.status.busy": "2021-11-05T14:10:29.046659Z",
     "iopub.status.idle": "2021-11-05T14:10:30.935171Z",
     "shell.execute_reply": "2021-11-05T14:10:30.935684Z",
     "shell.execute_reply.started": "2021-11-05T14:03:16.578323Z"
    },
    "papermill": {
     "duration": 1.903991,
     "end_time": "2021-11-05T14:10:30.935858",
     "exception": false,
     "start_time": "2021-11-05T14:10:29.031867",
     "status": "completed"
    },
    "tags": []
   },
   "outputs": [
    {
     "name": "stdout",
     "output_type": "stream",
     "text": [
      "<class 'pandas.core.frame.DataFrame'>\n",
      "RangeIndex: 849919 entries, 0 to 849918\n",
      "Data columns (total 7 columns):\n",
      " #   Column                         Non-Null Count   Dtype  \n",
      "---  ------                         --------------   -----  \n",
      " 0   BASE_CUSTOMER_ID               849919 non-null  int64  \n",
      " 1   CUSTOMER_ID                    849919 non-null  int64  \n",
      " 2   GENDER                         849916 non-null  object \n",
      " 3   MARITAL_STATUS                 620802 non-null  object \n",
      " 4   BIRTH_DATE                     645447 non-null  float64\n",
      " 5   FK_ADDRESS_COMMUNICATION_CITY  730341 non-null  object \n",
      " 6   OCCUPATION                     381052 non-null  object \n",
      "dtypes: float64(1), int64(2), object(4)\n",
      "memory usage: 45.4+ MB\n"
     ]
    }
   ],
   "source": [
    "base = '/kaggle/input/dogus-datathon-otomotiv/'\n",
    "main_df_raw = pd.read_csv(os.path.join(base,'FINAL_CUSTOMER_DATATHON.csv' ))\n",
    "main_df = main_df_raw.drop(columns=['Unnamed: 0', 'GENDER_ID', 'MARITAL_STATUS_ID',])\n",
    "#Cinsiyet bilgisini yeniden kodlama: \n",
    "main_df.info()"
   ]
  },
  {
   "cell_type": "code",
   "execution_count": 4,
   "id": "7b94a907",
   "metadata": {
    "execution": {
     "iopub.execute_input": "2021-11-05T14:10:30.964495Z",
     "iopub.status.busy": "2021-11-05T14:10:30.963729Z",
     "iopub.status.idle": "2021-11-05T14:10:31.691353Z",
     "shell.execute_reply": "2021-11-05T14:10:31.690816Z",
     "shell.execute_reply.started": "2021-11-05T14:03:18.845165Z"
    },
    "papermill": {
     "duration": 0.744099,
     "end_time": "2021-11-05T14:10:31.691492",
     "exception": false,
     "start_time": "2021-11-05T14:10:30.947393",
     "status": "completed"
    },
    "tags": []
   },
   "outputs": [
    {
     "data": {
      "text/plain": [
       "array([1712792, 1149729, 1697993, ..., 1383901, 1498539, 1649602])"
      ]
     },
     "execution_count": 4,
     "metadata": {},
     "output_type": "execute_result"
    }
   ],
   "source": [
    "sales_df_bare = pd.read_csv(os.path.join(base, 'FINAL_SALES_FILE_DATATHON.csv'))\n",
    "sales_df = sales_df_bare.drop(columns=['Unnamed: 0'])\n",
    "buying_customers = sales_df['CUSTOMER_ID'].unique() #Sadece satış sayısın bakrarak\n",
    "buying_customers"
   ]
  },
  {
   "cell_type": "code",
   "execution_count": 5,
   "id": "d35d534f",
   "metadata": {
    "execution": {
     "iopub.execute_input": "2021-11-05T14:10:31.752793Z",
     "iopub.status.busy": "2021-11-05T14:10:31.752132Z",
     "iopub.status.idle": "2021-11-05T14:12:02.023352Z",
     "shell.execute_reply": "2021-11-05T14:12:02.022766Z",
     "shell.execute_reply.started": "2021-11-05T14:03:19.634661Z"
    },
    "papermill": {
     "duration": 90.320161,
     "end_time": "2021-11-05T14:12:02.023525",
     "exception": false,
     "start_time": "2021-11-05T14:10:31.703364",
     "status": "completed"
    },
    "tags": []
   },
   "outputs": [],
   "source": [
    "def has_sales(cid, buying_customers):\n",
    "    if(cid in buying_customers):\n",
    "        return 1\n",
    "    else:\n",
    "        return 0\n",
    "\n",
    "main_df['VAL'] = main_df.apply (lambda row: has_sales(row.CUSTOMER_ID, buying_customers), axis=1)"
   ]
  },
  {
   "cell_type": "code",
   "execution_count": 6,
   "id": "84fb7022",
   "metadata": {
    "execution": {
     "iopub.execute_input": "2021-11-05T14:12:02.058186Z",
     "iopub.status.busy": "2021-11-05T14:12:02.056163Z",
     "iopub.status.idle": "2021-11-05T14:12:14.239975Z",
     "shell.execute_reply": "2021-11-05T14:12:14.240416Z",
     "shell.execute_reply.started": "2021-11-05T14:05:00.727882Z"
    },
    "papermill": {
     "duration": 12.205506,
     "end_time": "2021-11-05T14:12:14.240595",
     "exception": false,
     "start_time": "2021-11-05T14:12:02.035089",
     "status": "completed"
    },
    "tags": []
   },
   "outputs": [
    {
     "name": "stdout",
     "output_type": "stream",
     "text": [
      "Missing: 204472\n",
      "Missing: 0\n"
     ]
    },
    {
     "data": {
      "text/plain": [
       "array([[ 158891.        , 1747700.        ,    1972.80351245],\n",
       "       [ 169233.        , 1710561.        ,    1962.        ],\n",
       "       [  30887.        , 1043923.        ,    1971.        ],\n",
       "       ...,\n",
       "       [ 155926.        , 1670812.        ,    1970.        ],\n",
       "       [ 123223.        , 1691689.        ,    1970.        ],\n",
       "       [  88245.        , 1300543.        ,    1966.        ]])"
      ]
     },
     "execution_count": 6,
     "metadata": {},
     "output_type": "execute_result"
    }
   ],
   "source": [
    "categorical = ['GENDER','MARITAL_STATUS','FK_ADDRESS_COMMUNICATION_CITY','OCCUPATION']\n",
    "data_2 = main_df[['BASE_CUSTOMER_ID','CUSTOMER_ID', 'BIRTH_DATE']].copy()\n",
    "\n",
    "# iterative imputation transform for the horse colic dataset\n",
    "\n",
    "# evaluate iterative imputation and random forest for the horse colic dataset\n",
    "\n",
    "\n",
    "\n",
    "from numpy import isnan\n",
    "from pandas import read_csv\n",
    "from sklearn.experimental import enable_iterative_imputer\n",
    "from sklearn.impute import IterativeImputer\n",
    "# split into input and output elements\n",
    "\n",
    "data = data_2.values\n",
    "ix = [i for i in range(data.shape[1]) if i != 3]\n",
    "X, y = data[:, ix], data[:, 2]\n",
    "# print total missing\n",
    "print('Missing: %d' % sum(isnan(X).flatten()))\n",
    "# define imputer\n",
    "imputer = IterativeImputer()\n",
    "# fit on the dataset\n",
    "imputer.fit(X)\n",
    "# transform the dataset\n",
    "Xtrans = imputer.transform(X)\n",
    "# print total missing\n",
    "print('Missing: %d' % sum(isnan(Xtrans).flatten()))\n",
    "Xtrans"
   ]
  },
  {
   "cell_type": "code",
   "execution_count": 7,
   "id": "884f00c6",
   "metadata": {
    "execution": {
     "iopub.execute_input": "2021-11-05T14:12:14.269060Z",
     "iopub.status.busy": "2021-11-05T14:12:14.268400Z",
     "iopub.status.idle": "2021-11-05T14:12:14.634312Z",
     "shell.execute_reply": "2021-11-05T14:12:14.633767Z",
     "shell.execute_reply.started": "2021-11-05T14:05:20.753979Z"
    },
    "papermill": {
     "duration": 0.381063,
     "end_time": "2021-11-05T14:12:14.634462",
     "exception": false,
     "start_time": "2021-11-05T14:12:14.253399",
     "status": "completed"
    },
    "tags": []
   },
   "outputs": [],
   "source": [
    "for a in categorical:\n",
    "    if a == categorical[0]:\n",
    "        mylist_1 = list(set(main_df[a]))\n",
    "    elif a == categorical[1]:\n",
    "        mylist_2 = list(set(main_df[a]))\n",
    "    elif a == categorical[2]:    \n",
    "        mylist_3 = list(set(main_df[a]))\n",
    "    else:\n",
    "        mylist_4 = list(set(main_df[a]))\n",
    "\n",
    "mylist = list(set(main_df[\"OCCUPATION\"]))\n",
    "newlist_1 = [x for x in mylist_1 if pd.isnull(x) == False and x != 'nan']\n",
    "newlist_2 = [x for x in mylist_2 if pd.isnull(x) == False and x != 'nan']\n",
    "newlist_3 = [x for x in mylist_3 if pd.isnull(x) == False and x != 'nan']\n",
    "newlist_4 = [x for x in mylist_4 if pd.isnull(x) == False and x != 'nan']"
   ]
  },
  {
   "cell_type": "code",
   "execution_count": 8,
   "id": "6f4adab5",
   "metadata": {
    "execution": {
     "iopub.execute_input": "2021-11-05T14:12:14.667768Z",
     "iopub.status.busy": "2021-11-05T14:12:14.666741Z",
     "iopub.status.idle": "2021-11-05T14:12:15.660249Z",
     "shell.execute_reply": "2021-11-05T14:12:15.660724Z",
     "shell.execute_reply.started": "2021-11-05T14:05:21.393427Z"
    },
    "papermill": {
     "duration": 1.01426,
     "end_time": "2021-11-05T14:12:15.660890",
     "exception": false,
     "start_time": "2021-11-05T14:12:14.646630",
     "status": "completed"
    },
    "tags": []
   },
   "outputs": [
    {
     "data": {
      "text/plain": [
       "'\\na = 0\\nfor i in main_df[\"OCCUPATION\"]:\\n    if i == \\'nan\\':\\n        a += 1\\n        \\nprint(a)\\n'"
      ]
     },
     "execution_count": 8,
     "metadata": {},
     "output_type": "execute_result"
    }
   ],
   "source": [
    "main_df[\"GENDER\"] = main_df[\"GENDER\"].fillna(pd.Series(np.random.choice(newlist_1, size=len(main_df.index))))\n",
    "main_df[\"MARITAL_STATUS\"] = main_df[\"MARITAL_STATUS\"].fillna(pd.Series(np.random.choice(newlist_2, size=len(main_df.index))))\n",
    "main_df[\"FK_ADDRESS_COMMUNICATION_CITY\"] = main_df[\"FK_ADDRESS_COMMUNICATION_CITY\"].fillna(pd.Series(np.random.choice(newlist_3, size=len(main_df.index))))\n",
    "main_df[\"OCCUPATION\"] = main_df[\"OCCUPATION\"].fillna(pd.Series(np.random.choice(newlist_4, size=len(main_df.index))))\n",
    "# used to check if all nans are now gone.\n",
    "\"\"\"\n",
    "a = 0\n",
    "for i in main_df[\"OCCUPATION\"]:\n",
    "    if i == 'nan':\n",
    "        a += 1\n",
    "        \n",
    "print(a)\n",
    "\"\"\""
   ]
  },
  {
   "cell_type": "code",
   "execution_count": 9,
   "id": "02ada4a8",
   "metadata": {
    "execution": {
     "iopub.execute_input": "2021-11-05T14:12:15.689830Z",
     "iopub.status.busy": "2021-11-05T14:12:15.688666Z",
     "iopub.status.idle": "2021-11-05T14:12:15.706250Z",
     "shell.execute_reply": "2021-11-05T14:12:15.705669Z",
     "shell.execute_reply.started": "2021-11-05T14:05:22.603706Z"
    },
    "papermill": {
     "duration": 0.033274,
     "end_time": "2021-11-05T14:12:15.706403",
     "exception": false,
     "start_time": "2021-11-05T14:12:15.673129",
     "status": "completed"
    },
    "tags": []
   },
   "outputs": [],
   "source": [
    "main_df[\"BASE_CUSTOMER_ID\"] = Xtrans[:,0]\n",
    "# checked the values main_df[\"BASE_CUSTOMER_ID\"]\n",
    "main_df[\"CUSTOMER_ID\"] = Xtrans[:,1]\n",
    "main_df[\"BIRTH_DATE\"] = Xtrans[:,2]"
   ]
  },
  {
   "cell_type": "code",
   "execution_count": 10,
   "id": "0b6807ab",
   "metadata": {
    "execution": {
     "iopub.execute_input": "2021-11-05T14:12:15.737948Z",
     "iopub.status.busy": "2021-11-05T14:12:15.735295Z",
     "iopub.status.idle": "2021-11-05T14:12:15.754437Z",
     "shell.execute_reply": "2021-11-05T14:12:15.753815Z",
     "shell.execute_reply.started": "2021-11-05T14:05:22.623798Z"
    },
    "papermill": {
     "duration": 0.035059,
     "end_time": "2021-11-05T14:12:15.754588",
     "exception": false,
     "start_time": "2021-11-05T14:12:15.719529",
     "status": "completed"
    },
    "tags": []
   },
   "outputs": [],
   "source": [
    "main_df[\"BASE_CUSTOMER_ID\"] = main_df[\"BASE_CUSTOMER_ID\"].astype(np.int64)\n",
    "main_df[\"CUSTOMER_ID\"] = main_df[\"CUSTOMER_ID\"].astype(np.int64)\n",
    "main_df[\"BIRTH_DATE\"] = main_df[\"BIRTH_DATE\"].astype(np.int64)"
   ]
  },
  {
   "cell_type": "code",
   "execution_count": 11,
   "id": "d7a0f18e",
   "metadata": {
    "execution": {
     "iopub.execute_input": "2021-11-05T14:12:15.786012Z",
     "iopub.status.busy": "2021-11-05T14:12:15.785336Z",
     "iopub.status.idle": "2021-11-05T14:12:16.721391Z",
     "shell.execute_reply": "2021-11-05T14:12:16.721948Z",
     "shell.execute_reply.started": "2021-11-05T14:05:22.677309Z"
    },
    "papermill": {
     "duration": 0.955036,
     "end_time": "2021-11-05T14:12:16.722117",
     "exception": false,
     "start_time": "2021-11-05T14:12:15.767081",
     "status": "completed"
    },
    "tags": []
   },
   "outputs": [
    {
     "data": {
      "text/html": [
       "<div>\n",
       "<style scoped>\n",
       "    .dataframe tbody tr th:only-of-type {\n",
       "        vertical-align: middle;\n",
       "    }\n",
       "\n",
       "    .dataframe tbody tr th {\n",
       "        vertical-align: top;\n",
       "    }\n",
       "\n",
       "    .dataframe thead th {\n",
       "        text-align: right;\n",
       "    }\n",
       "</style>\n",
       "<table border=\"1\" class=\"dataframe\">\n",
       "  <thead>\n",
       "    <tr style=\"text-align: right;\">\n",
       "      <th></th>\n",
       "      <th>BASE_CUSTOMER_ID</th>\n",
       "      <th>CUSTOMER_ID</th>\n",
       "      <th>GENDER</th>\n",
       "      <th>MARITAL_STATUS</th>\n",
       "      <th>BIRTH_DATE</th>\n",
       "      <th>FK_ADDRESS_COMMUNICATION_CITY</th>\n",
       "      <th>OCCUPATION</th>\n",
       "      <th>VAL</th>\n",
       "    </tr>\n",
       "  </thead>\n",
       "  <tbody>\n",
       "    <tr>\n",
       "      <th>0</th>\n",
       "      <td>158891</td>\n",
       "      <td>1747700</td>\n",
       "      <td>0</td>\n",
       "      <td>0</td>\n",
       "      <td>1972</td>\n",
       "      <td>43</td>\n",
       "      <td>48</td>\n",
       "      <td>1</td>\n",
       "    </tr>\n",
       "    <tr>\n",
       "      <th>1</th>\n",
       "      <td>169233</td>\n",
       "      <td>1710561</td>\n",
       "      <td>0</td>\n",
       "      <td>1</td>\n",
       "      <td>1962</td>\n",
       "      <td>41</td>\n",
       "      <td>57</td>\n",
       "      <td>1</td>\n",
       "    </tr>\n",
       "    <tr>\n",
       "      <th>2</th>\n",
       "      <td>30887</td>\n",
       "      <td>1043923</td>\n",
       "      <td>0</td>\n",
       "      <td>1</td>\n",
       "      <td>1971</td>\n",
       "      <td>137</td>\n",
       "      <td>14</td>\n",
       "      <td>0</td>\n",
       "    </tr>\n",
       "    <tr>\n",
       "      <th>3</th>\n",
       "      <td>38013</td>\n",
       "      <td>1101926</td>\n",
       "      <td>0</td>\n",
       "      <td>0</td>\n",
       "      <td>1963</td>\n",
       "      <td>81</td>\n",
       "      <td>58</td>\n",
       "      <td>0</td>\n",
       "    </tr>\n",
       "    <tr>\n",
       "      <th>4</th>\n",
       "      <td>157091</td>\n",
       "      <td>1819787</td>\n",
       "      <td>1</td>\n",
       "      <td>1</td>\n",
       "      <td>1973</td>\n",
       "      <td>8</td>\n",
       "      <td>19</td>\n",
       "      <td>0</td>\n",
       "    </tr>\n",
       "    <tr>\n",
       "      <th>...</th>\n",
       "      <td>...</td>\n",
       "      <td>...</td>\n",
       "      <td>...</td>\n",
       "      <td>...</td>\n",
       "      <td>...</td>\n",
       "      <td>...</td>\n",
       "      <td>...</td>\n",
       "      <td>...</td>\n",
       "    </tr>\n",
       "    <tr>\n",
       "      <th>849914</th>\n",
       "      <td>18175</td>\n",
       "      <td>1744051</td>\n",
       "      <td>0</td>\n",
       "      <td>1</td>\n",
       "      <td>1965</td>\n",
       "      <td>114</td>\n",
       "      <td>57</td>\n",
       "      <td>0</td>\n",
       "    </tr>\n",
       "    <tr>\n",
       "      <th>849915</th>\n",
       "      <td>108604</td>\n",
       "      <td>1209486</td>\n",
       "      <td>0</td>\n",
       "      <td>1</td>\n",
       "      <td>1969</td>\n",
       "      <td>137</td>\n",
       "      <td>34</td>\n",
       "      <td>1</td>\n",
       "    </tr>\n",
       "    <tr>\n",
       "      <th>849916</th>\n",
       "      <td>155926</td>\n",
       "      <td>1670812</td>\n",
       "      <td>0</td>\n",
       "      <td>1</td>\n",
       "      <td>1970</td>\n",
       "      <td>137</td>\n",
       "      <td>19</td>\n",
       "      <td>0</td>\n",
       "    </tr>\n",
       "    <tr>\n",
       "      <th>849917</th>\n",
       "      <td>123223</td>\n",
       "      <td>1691689</td>\n",
       "      <td>0</td>\n",
       "      <td>1</td>\n",
       "      <td>1970</td>\n",
       "      <td>64</td>\n",
       "      <td>37</td>\n",
       "      <td>0</td>\n",
       "    </tr>\n",
       "    <tr>\n",
       "      <th>849918</th>\n",
       "      <td>88245</td>\n",
       "      <td>1300543</td>\n",
       "      <td>1</td>\n",
       "      <td>0</td>\n",
       "      <td>1966</td>\n",
       "      <td>137</td>\n",
       "      <td>49</td>\n",
       "      <td>0</td>\n",
       "    </tr>\n",
       "  </tbody>\n",
       "</table>\n",
       "<p>849919 rows × 8 columns</p>\n",
       "</div>"
      ],
      "text/plain": [
       "        BASE_CUSTOMER_ID  CUSTOMER_ID  GENDER  MARITAL_STATUS  BIRTH_DATE  \\\n",
       "0                 158891      1747700       0               0        1972   \n",
       "1                 169233      1710561       0               1        1962   \n",
       "2                  30887      1043923       0               1        1971   \n",
       "3                  38013      1101926       0               0        1963   \n",
       "4                 157091      1819787       1               1        1973   \n",
       "...                  ...          ...     ...             ...         ...   \n",
       "849914             18175      1744051       0               1        1965   \n",
       "849915            108604      1209486       0               1        1969   \n",
       "849916            155926      1670812       0               1        1970   \n",
       "849917            123223      1691689       0               1        1970   \n",
       "849918             88245      1300543       1               0        1966   \n",
       "\n",
       "        FK_ADDRESS_COMMUNICATION_CITY  OCCUPATION  VAL  \n",
       "0                                  43          48    1  \n",
       "1                                  41          57    1  \n",
       "2                                 137          14    0  \n",
       "3                                  81          58    0  \n",
       "4                                   8          19    0  \n",
       "...                               ...         ...  ...  \n",
       "849914                            114          57    0  \n",
       "849915                            137          34    1  \n",
       "849916                            137          19    0  \n",
       "849917                             64          37    0  \n",
       "849918                            137          49    0  \n",
       "\n",
       "[849919 rows x 8 columns]"
      ]
     },
     "execution_count": 11,
     "metadata": {},
     "output_type": "execute_result"
    }
   ],
   "source": [
    "df = main_df.copy()\n",
    "categorical = ['GENDER','MARITAL_STATUS','FK_ADDRESS_COMMUNICATION_CITY','OCCUPATION']\n",
    "\n",
    "from sklearn import preprocessing\n",
    "for col in categorical:\n",
    "    le = preprocessing.LabelEncoder()\n",
    "    column = df[col].copy()\n",
    "    df[col] = le.fit_transform(column)\n",
    "\n",
    "df"
   ]
  },
  {
   "cell_type": "code",
   "execution_count": 12,
   "id": "0c35613b",
   "metadata": {
    "execution": {
     "iopub.execute_input": "2021-11-05T14:12:16.751283Z",
     "iopub.status.busy": "2021-11-05T14:12:16.750665Z",
     "iopub.status.idle": "2021-11-05T14:12:16.799831Z",
     "shell.execute_reply": "2021-11-05T14:12:16.799316Z",
     "shell.execute_reply.started": "2021-11-05T14:05:24.230810Z"
    },
    "papermill": {
     "duration": 0.06477,
     "end_time": "2021-11-05T14:12:16.799988",
     "exception": false,
     "start_time": "2021-11-05T14:12:16.735218",
     "status": "completed"
    },
    "tags": []
   },
   "outputs": [
    {
     "data": {
      "text/plain": [
       "array([[   0,    0, 1972,   43,   48],\n",
       "       [   0,    1, 1962,   41,   57],\n",
       "       [   0,    1, 1971,  137,   14],\n",
       "       ...,\n",
       "       [   0,    1, 1970,  137,   19],\n",
       "       [   0,    1, 1970,   64,   37],\n",
       "       [   1,    0, 1966,  137,   49]])"
      ]
     },
     "execution_count": 12,
     "metadata": {},
     "output_type": "execute_result"
    }
   ],
   "source": [
    "from sklearn.linear_model import LogisticRegression\n",
    "logmodel = LogisticRegression()\n",
    "y_train = df['VAL'].to_numpy() \n",
    "X_train = df.drop(columns = ['VAL', 'BASE_CUSTOMER_ID', 'CUSTOMER_ID']).to_numpy()\n",
    "X_train"
   ]
  },
  {
   "cell_type": "code",
   "execution_count": 13,
   "id": "8283efae",
   "metadata": {
    "execution": {
     "iopub.execute_input": "2021-11-05T14:12:16.833092Z",
     "iopub.status.busy": "2021-11-05T14:12:16.832479Z",
     "iopub.status.idle": "2021-11-05T14:12:16.962301Z",
     "shell.execute_reply": "2021-11-05T14:12:16.962731Z",
     "shell.execute_reply.started": "2021-11-05T14:05:24.283271Z"
    },
    "papermill": {
     "duration": 0.149806,
     "end_time": "2021-11-05T14:12:16.962948",
     "exception": false,
     "start_time": "2021-11-05T14:12:16.813142",
     "status": "completed"
    },
    "tags": []
   },
   "outputs": [
    {
     "name": "stdout",
     "output_type": "stream",
     "text": [
      "Total result size: 166943\n",
      "Predicted result size: 714249\n",
      "df size: 849919\n"
     ]
    }
   ],
   "source": [
    "id_df = pd.read_csv(os.path.join(base, 'sample_submission.csv'))[['Id']]\n",
    "\n",
    "#Only predicting for people with full values\n",
    "X = df[df.BASE_CUSTOMER_ID.isin(id_df['Id'].to_numpy())].copy()\n",
    "X_test = X.copy().drop(columns = ['VAL', 'BASE_CUSTOMER_ID', 'CUSTOMER_ID']).to_numpy()\n",
    "\n",
    "print(\"Total result size: \" + str(id_df.shape[0]))\n",
    "\n",
    "print(\"Predicted result size: \" + str(X.shape[0]))\n",
    "\n",
    "print(\"df size: \" + str(df.shape[0]))"
   ]
  },
  {
   "cell_type": "code",
   "execution_count": 14,
   "id": "7d2766ba",
   "metadata": {
    "execution": {
     "iopub.execute_input": "2021-11-05T14:12:16.994059Z",
     "iopub.status.busy": "2021-11-05T14:12:16.993078Z",
     "iopub.status.idle": "2021-11-05T14:12:23.701669Z",
     "shell.execute_reply": "2021-11-05T14:12:23.701156Z",
     "shell.execute_reply.started": "2021-11-05T14:05:24.445247Z"
    },
    "papermill": {
     "duration": 6.725305,
     "end_time": "2021-11-05T14:12:23.701822",
     "exception": false,
     "start_time": "2021-11-05T14:12:16.976517",
     "status": "completed"
    },
    "tags": []
   },
   "outputs": [],
   "source": [
    "logmodel.fit(X_train,y_train)\n",
    "predictions = logmodel.predict_proba(X_test)\n",
    "p_vals = []\n",
    "\n",
    "for pred in predictions:\n",
    "    p_vals.append(pred[1])\n",
    "\n",
    "X['P'] = p_vals #TODO: Fix warning here\n",
    "\n",
    "\n",
    "#TODO: Fix classificaiton imbalance before calling the scikit learn! It causes us to clssify everything as 0."
   ]
  },
  {
   "cell_type": "code",
   "execution_count": 15,
   "id": "6c383a37",
   "metadata": {
    "execution": {
     "iopub.execute_input": "2021-11-05T14:12:23.746603Z",
     "iopub.status.busy": "2021-11-05T14:12:23.745865Z",
     "iopub.status.idle": "2021-11-05T14:12:25.589801Z",
     "shell.execute_reply": "2021-11-05T14:12:25.589257Z",
     "shell.execute_reply.started": "2021-11-05T14:10:01.682031Z"
    },
    "papermill": {
     "duration": 1.874757,
     "end_time": "2021-11-05T14:12:25.589977",
     "exception": false,
     "start_time": "2021-11-05T14:12:23.715220",
     "status": "completed"
    },
    "tags": []
   },
   "outputs": [],
   "source": [
    "X2 = X[['BASE_CUSTOMER_ID','P']].copy().rename(columns={\"BASE_CUSTOMER_ID\": \"Id\", \"P\": \"Expected\"})\n",
    "X2\n",
    "\n",
    "result = id_df.merge(X2, on='Id', how='left')\n",
    "result['Expected'] = result['Expected'].fillna((result['Expected'].mean()))\n",
    "result.to_csv('/kaggle/working/predictions.csv',index=False)\n"
   ]
  }
 ],
 "metadata": {
  "kernelspec": {
   "display_name": "Python 3",
   "language": "python",
   "name": "python3"
  },
  "language_info": {
   "codemirror_mode": {
    "name": "ipython",
    "version": 3
   },
   "file_extension": ".py",
   "mimetype": "text/x-python",
   "name": "python",
   "nbconvert_exporter": "python",
   "pygments_lexer": "ipython3",
   "version": "3.7.10"
  },
  "papermill": {
   "default_parameters": {},
   "duration": 126.755825,
   "end_time": "2021-11-05T14:12:26.413842",
   "environment_variables": {},
   "exception": null,
   "input_path": "__notebook__.ipynb",
   "output_path": "__notebook__.ipynb",
   "parameters": {},
   "start_time": "2021-11-05T14:10:19.658017",
   "version": "2.3.3"
  }
 },
 "nbformat": 4,
 "nbformat_minor": 5
}
